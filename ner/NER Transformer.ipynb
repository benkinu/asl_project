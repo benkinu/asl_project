{
 "cells": [
  {
   "cell_type": "markdown",
   "id": "cfd1ed37-e8b0-4deb-960a-7bda31ae381a",
   "metadata": {},
   "source": [
    "\n",
    "## Title: Named Entity Recognition using Transformers\n",
    "* Author: [Varun Singh](https://www.linkedin.com/in/varunsingh2/)\n",
    "* Date created: Jun 23, 2021\n",
    "* Last modified: Jun 24, 2021\n",
    "* Description: NER using the Transformers and data from CoNLL 2003 shared task.\n",
    "* Accelerator: GPU\n",
    "\n",
    "## Introduction\n",
    "\n",
    "Named Entity Recognition (NER) is the process of identifying named entities in text.\n",
    "Example of named entities are: \"Person\", \"Location\", \"Organization\", \"Dates\" etc. NER is\n",
    "essentially a token classification task where every token is classified into one or more\n",
    "predetermined categories.\n",
    "\n",
    "In this exercise, we will train a simple Transformer based model to perform NER. We will\n",
    "be using the data from CoNLL 2003 shared task. For more information about the dataset,\n",
    "please visit [the dataset website](https://www.clips.uantwerpen.be/conll2003/ner/).\n",
    "However, since obtaining this data requires an additional step of getting a free license, we will be using\n",
    "HuggingFace's datasets library which contains a processed version of this dataset.\n",
    "\n",
    "\n",
    "## Install the open source datasets library from HuggingFace\n",
    "\n",
    "We also download the script used to evaluate NER models.\n",
    "\n",
    "\n",
    "shell\n",
    "```\n",
    "pip3 install datasets\n",
    "wget https://raw.githubusercontent.com/sighsmile/conlleval/master/conlleval.py\n",
    "```"
   ]
  },
  {
   "cell_type": "code",
   "execution_count": 109,
   "id": "bc117c79-5c27-4265-ac5f-60633f35fe7b",
   "metadata": {},
   "outputs": [],
   "source": [
    "import os\n",
    "import numpy as np\n",
    "import tensorflow as tf\n",
    "from tensorflow import keras\n",
    "from tensorflow.keras import layers\n",
    "from datasets import load_dataset\n",
    "from collections import Counter\n",
    "from conlleval import evaluate\n",
    "import tensorflow_hub as hub\n"
   ]
  },
  {
   "cell_type": "markdown",
   "id": "e389779b-4530-49f7-91a9-acf4c2919784",
   "metadata": {},
   "source": [
    "We will be using the transformer implementation from this fantastic\n",
    "[example](https://keras.io/examples/nlp/text_classification_with_transformer/)\n",
    "\n",
    "Let's start by defining a `TransformerBlock` layer:\n"
   ]
  },
  {
   "cell_type": "code",
   "execution_count": 2,
   "id": "8e45a375-d453-43a1-bf33-b37cb1bb54c6",
   "metadata": {},
   "outputs": [],
   "source": [
    "class TransformerBlock(layers.Layer):\n",
    "    def __init__(self, embed_dim, num_heads, ff_dim, rate=0.1):\n",
    "        super().__init__()\n",
    "        self.att = keras.layers.MultiHeadAttention(\n",
    "            num_heads=num_heads, key_dim=embed_dim\n",
    "        )\n",
    "        self.ffn = keras.Sequential(\n",
    "            [\n",
    "                keras.layers.Dense(ff_dim, activation=\"relu\"),\n",
    "                keras.layers.Dense(embed_dim),\n",
    "            ]\n",
    "        )\n",
    "        self.layernorm1 = keras.layers.LayerNormalization(epsilon=1e-6)\n",
    "        self.layernorm2 = keras.layers.LayerNormalization(epsilon=1e-6)\n",
    "        self.dropout1 = keras.layers.Dropout(rate)\n",
    "        self.dropout2 = keras.layers.Dropout(rate)\n",
    "    \n",
    "    def call(self, inputs, training=False):\n",
    "        attn_output = self.att(inputs, inputs)\n",
    "        attn_output = self.dropout1(attn_output, training=training)\n",
    "        out1 = self.layernorm1(inputs + attn_output)\n",
    "        ffn_output = self.ffn(out1)\n",
    "        ffn_output = self.dropout2(ffn_output, training=training)\n",
    "        return self.layernorm2(out1 + ffn_output)"
   ]
  },
  {
   "cell_type": "markdown",
   "id": "9f828f3e-0fc4-4df4-886a-7e45f9b81c41",
   "metadata": {},
   "source": [
    "Next, let's define a `TokenAndPositionEmbedding` layer:"
   ]
  },
  {
   "cell_type": "code",
   "execution_count": 3,
   "id": "19813949-2320-4880-ae38-4f0b24cd51bc",
   "metadata": {},
   "outputs": [],
   "source": [
    "class TokenAndPositionEmbedding(layers.Layer):\n",
    "    def __init__(self, maxlen, vocab_size, embed_dim):\n",
    "        super().__init__()\n",
    "        self.token_emb = keras.layers.Embedding(\n",
    "            input_dim=vocab_size, output_dim=embed_dim\n",
    "        )\n",
    "        self.pos_emb = keras.layers.Embedding(input_dim=maxlen, output_dim=embed_dim)\n",
    "    \n",
    "    def call(self, inputs):\n",
    "        maxlen = tf.shape(inputs)[-1]\n",
    "        positions = tf.range(start=0, limit=maxlen, delta=1)\n",
    "        position_embeddings = self.pos_emb(positions)\n",
    "        token_embeddings = self.token_emb(inputs)\n",
    "        return token_embeddings + position_embeddings"
   ]
  },
  {
   "cell_type": "markdown",
   "id": "97557e32-23b4-4af2-93aa-06f50246f4d1",
   "metadata": {},
   "source": [
    "## Build the NER model class as a `keras.Model` subclass\n"
   ]
  },
  {
   "cell_type": "code",
   "execution_count": 31,
   "id": "a7dc58ca-be45-4b92-969c-a3820058f1a1",
   "metadata": {},
   "outputs": [],
   "source": [
    "class NERModel(keras.Model):\n",
    "    def __init__(\n",
    "        self, num_tags, vocab_size, maxlen=128, embed_dim=32, num_heads=2, ff_dim=32\n",
    "    ):\n",
    "        super().__init__()\n",
    "        self.embedding_layer = TokenAndPositionEmbedding(maxlen, vocab_size, embed_dim)\n",
    "        self.transformer_block1 = TransformerBlock(embed_dim, num_heads, ff_dim)\n",
    "        self.transformer_block2 = TransformerBlock(embed_dim, num_heads, ff_dim)\n",
    "        self.transformer_block3 = TransformerBlock(embed_dim, num_heads, ff_dim)\n",
    "        self.transformer_block4 = TransformerBlock(embed_dim, num_heads, ff_dim)\n",
    "        self.transformer_block5 = TransformerBlock(embed_dim, num_heads, ff_dim)\n",
    "        self.transformer_block6 = TransformerBlock(embed_dim, num_heads, ff_dim)        \n",
    "        self.dropout1 = layers.Dropout(0.1)\n",
    "        self.ff = layers.Dense(ff_dim, activation=\"relu\")\n",
    "        self.dropout2 = layers.Dropout(0.1)\n",
    "        self.ff_final = layers.Dense(num_tags, activation=\"softmax\")\n",
    "    \n",
    "    def call(self, inputs, training=False):\n",
    "        x = self.embedding_layer(inputs)\n",
    "        x = self.transformer_block1(x)\n",
    "        x = self.transformer_block2(x)\n",
    "        x = self.transformer_block3(x)        \n",
    "        x = self.transformer_block4(x)\n",
    "        x = self.transformer_block5(x)\n",
    "        x = self.transformer_block6(x)        \n",
    "        x = self.dropout1(x, training=training)\n",
    "        x = self.ff(x)\n",
    "        x = self.dropout2(x, training=training)\n",
    "        x = self.ff_final(x)\n",
    "        return x\n"
   ]
  },
  {
   "cell_type": "markdown",
   "id": "4344755f-d69b-473f-bfd8-636872dd2db0",
   "metadata": {},
   "source": [
    "## Load the CoNLL 2003 dataset from the datasets library and process it\n"
   ]
  },
  {
   "cell_type": "code",
   "execution_count": 5,
   "id": "08d732ba-7e25-49fe-98dc-ac080d73993f",
   "metadata": {},
   "outputs": [
    {
     "name": "stderr",
     "output_type": "stream",
     "text": [
      "Found cached dataset conll2003 (/home/jupyter/.cache/huggingface/datasets/conll2003/conll2003/1.0.0/9a4d16a94f8674ba3466315300359b0acd891b68b6c8743ddf60b9c702adce98)\n",
      "100%|██████████| 3/3 [00:00<00:00, 101.77it/s]\n"
     ]
    }
   ],
   "source": [
    "conll_data = load_dataset(\"conll2003\")\n"
   ]
  },
  {
   "cell_type": "markdown",
   "id": "d7239c2f-b14f-4b2f-8e5a-879ebcb9ee05",
   "metadata": {},
   "source": [
    "We will export this data to a tab-separated file format which will be easy to read as a\n",
    "`tf.data.Dataset` object."
   ]
  },
  {
   "cell_type": "code",
   "execution_count": 6,
   "id": "0465031c-ddd1-4c3e-b2d3-a934ab37254b",
   "metadata": {},
   "outputs": [],
   "source": [
    "def export_to_file(export_file_path, data):\n",
    "    with open(export_file_path, \"w\") as f:\n",
    "        for record in data:\n",
    "            ner_tags = record[\"ner_tags\"]\n",
    "            tokens = record[\"tokens\"]\n",
    "            if len(tokens) > 0:\n",
    "                f.write(\n",
    "                    str(len(tokens))\n",
    "                    + \"\\t\"\n",
    "                    + \"\\t\".join(tokens)\n",
    "                    + \"\\t\"\n",
    "                    + \"\\t\".join(map(str, ner_tags))\n",
    "                    + \"\\n\"\n",
    "                )"
   ]
  },
  {
   "cell_type": "code",
   "execution_count": null,
   "id": "59f1bb8e-4cbd-4102-b798-d90600577449",
   "metadata": {},
   "outputs": [],
   "source": [
    "os.mkdir(\"data\")\n",
    "export_to_file(\"./data/conll_train.txt\", conll_data[\"train\"])\n",
    "export_to_file(\"./data/conll_val.txt\", conll_data[\"validation\"])"
   ]
  },
  {
   "cell_type": "markdown",
   "id": "4df2e4cf-59e8-47d0-a033-9cec072e380f",
   "metadata": {},
   "source": [
    "## Make the NER label lookup table\n",
    "\n",
    "NER labels are usually provided in IOB, IOB2 or IOBES formats. Checkout this link for\n",
    "more information:\n",
    "[Wikipedia](https://en.wikipedia.org/wiki/Inside%E2%80%93outside%E2%80%93beginning_(tagging))\n",
    "\n",
    "Note that we start our label numbering from 1 since 0 will be reserved for padding. We\n",
    "have a total of 10 labels: 9 from the NER dataset and one for padding."
   ]
  },
  {
   "cell_type": "code",
   "execution_count": 8,
   "id": "ba2c367d-0259-42fb-9344-2be0760c513f",
   "metadata": {},
   "outputs": [],
   "source": [
    "def make_tag_lookup_table():\n",
    "    iob_labels = [\"B\", \"I\"]\n",
    "    ner_labels = [\"PER\", \"ORG\", \"LOC\", \"MISC\"]\n",
    "    all_labels = [(label1, label2) for label2 in ner_labels for label1 in iob_labels]\n",
    "    all_labels = [\"-\".join([a, b]) for a, b in all_labels]\n",
    "    all_labels = [\"[PAD]\", \"O\"] + all_labels\n",
    "    return dict(zip(range(0, len(all_labels) + 1), all_labels))"
   ]
  },
  {
   "cell_type": "code",
   "execution_count": 9,
   "id": "740f1cfa-4bc4-454d-87e5-1b43f19ee5c2",
   "metadata": {},
   "outputs": [
    {
     "name": "stdout",
     "output_type": "stream",
     "text": [
      "{0: '[PAD]', 1: 'O', 2: 'B-PER', 3: 'I-PER', 4: 'B-ORG', 5: 'I-ORG', 6: 'B-LOC', 7: 'I-LOC', 8: 'B-MISC', 9: 'I-MISC'}\n"
     ]
    }
   ],
   "source": [
    "mapping = make_tag_lookup_table()\n",
    "print(mapping)"
   ]
  },
  {
   "cell_type": "markdown",
   "id": "73bfd372-2f03-437d-ac65-ef85070d34ee",
   "metadata": {},
   "source": [
    "Get a list of all tokens in the training dataset. This will be used to create the\n",
    "vocabulary."
   ]
  },
  {
   "cell_type": "code",
   "execution_count": 10,
   "id": "8c91a7ce-1638-4ad0-bc5a-4ac8bf114180",
   "metadata": {},
   "outputs": [
    {
     "name": "stdout",
     "output_type": "stream",
     "text": [
      "21009\n"
     ]
    }
   ],
   "source": [
    "all_tokens = sum(conll_data[\"train\"][\"tokens\"], [])\n",
    "all_tokens_array = np.array(list(map(str.lower, all_tokens)))\n",
    "\n",
    "counter = Counter(all_tokens_array)\n",
    "print(len(counter))\n",
    "\n",
    "num_tags = len(mapping)\n",
    "vocab_size = 20000"
   ]
  },
  {
   "cell_type": "markdown",
   "id": "3681427b-ce98-4227-b7ca-27ff3bc0357e",
   "metadata": {},
   "source": [
    "We only take (vocab_size - 2) most commons words from the training data since the `StringLookup` class uses 2 additional tokens - one denoting an unknown token and another one denoting a masking token"
   ]
  },
  {
   "cell_type": "code",
   "execution_count": 11,
   "id": "8b307cb7-2634-4d2f-8dbe-c051a68cd2d0",
   "metadata": {},
   "outputs": [],
   "source": [
    "vocabulary = [token for token, count in counter.most_common(vocab_size - 2)]\n"
   ]
  },
  {
   "cell_type": "markdown",
   "id": "fec9a49e-5619-4eac-8211-079820bb5faf",
   "metadata": {},
   "source": [
    "The StringLook class will convert tokens to token IDs"
   ]
  },
  {
   "cell_type": "code",
   "execution_count": 12,
   "id": "95d38e81-d6e8-4cdf-ae0e-832b96eae75c",
   "metadata": {},
   "outputs": [
    {
     "name": "stderr",
     "output_type": "stream",
     "text": [
      "2023-06-08 03:38:55.202807: I tensorflow/stream_executor/cuda/cuda_gpu_executor.cc:936] successful NUMA node read from SysFS had negative value (-1), but there must be at least one NUMA node, so returning NUMA node zero\n",
      "2023-06-08 03:38:55.259757: I tensorflow/stream_executor/cuda/cuda_gpu_executor.cc:936] successful NUMA node read from SysFS had negative value (-1), but there must be at least one NUMA node, so returning NUMA node zero\n",
      "2023-06-08 03:38:55.261364: I tensorflow/stream_executor/cuda/cuda_gpu_executor.cc:936] successful NUMA node read from SysFS had negative value (-1), but there must be at least one NUMA node, so returning NUMA node zero\n",
      "2023-06-08 03:38:55.292736: I tensorflow/core/platform/cpu_feature_guard.cc:151] This TensorFlow binary is optimized with oneAPI Deep Neural Network Library (oneDNN) to use the following CPU instructions in performance-critical operations:  AVX2 FMA\n",
      "To enable them in other operations, rebuild TensorFlow with the appropriate compiler flags.\n",
      "2023-06-08 03:38:55.324872: I tensorflow/stream_executor/cuda/cuda_gpu_executor.cc:936] successful NUMA node read from SysFS had negative value (-1), but there must be at least one NUMA node, so returning NUMA node zero\n",
      "2023-06-08 03:38:55.326585: I tensorflow/stream_executor/cuda/cuda_gpu_executor.cc:936] successful NUMA node read from SysFS had negative value (-1), but there must be at least one NUMA node, so returning NUMA node zero\n",
      "2023-06-08 03:38:55.328209: I tensorflow/stream_executor/cuda/cuda_gpu_executor.cc:936] successful NUMA node read from SysFS had negative value (-1), but there must be at least one NUMA node, so returning NUMA node zero\n",
      "2023-06-08 03:39:05.778076: I tensorflow/stream_executor/cuda/cuda_gpu_executor.cc:936] successful NUMA node read from SysFS had negative value (-1), but there must be at least one NUMA node, so returning NUMA node zero\n",
      "2023-06-08 03:39:05.779935: I tensorflow/stream_executor/cuda/cuda_gpu_executor.cc:936] successful NUMA node read from SysFS had negative value (-1), but there must be at least one NUMA node, so returning NUMA node zero\n",
      "2023-06-08 03:39:05.781488: I tensorflow/stream_executor/cuda/cuda_gpu_executor.cc:936] successful NUMA node read from SysFS had negative value (-1), but there must be at least one NUMA node, so returning NUMA node zero\n",
      "2023-06-08 03:39:05.802393: I tensorflow/core/common_runtime/gpu/gpu_device.cc:1525] Created device /job:localhost/replica:0/task:0/device:GPU:0 with 13598 MB memory:  -> device: 0, name: Tesla T4, pci bus id: 0000:00:04.0, compute capability: 7.5\n"
     ]
    }
   ],
   "source": [
    "lookup_layer = keras.layers.StringLookup(vocabulary=vocabulary)\n"
   ]
  },
  {
   "cell_type": "markdown",
   "id": "23045b23-9c5f-43d8-a764-003b25bb5460",
   "metadata": {},
   "source": [
    "Create 2 new `Dataset` objects from the training and validation data\n"
   ]
  },
  {
   "cell_type": "code",
   "execution_count": 13,
   "id": "1cfa2c0b-b990-4230-8de9-3509f008d9f0",
   "metadata": {},
   "outputs": [],
   "source": [
    "train_data = tf.data.TextLineDataset(\"./data/conll_train.txt\")\n",
    "val_data = tf.data.TextLineDataset(\"./data/conll_val.txt\")"
   ]
  },
  {
   "cell_type": "markdown",
   "id": "4e1dc223-618d-4a5f-aba7-e2a1f5439135",
   "metadata": {},
   "source": [
    "Print out one line to make sure it looks good. The first record in the line is the number of tokens. \n",
    "After that we will have all the tokens followed by all the ner tags."
   ]
  },
  {
   "cell_type": "code",
   "execution_count": 14,
   "id": "540594d5-6316-423a-8bb5-564d403cdc56",
   "metadata": {},
   "outputs": [
    {
     "name": "stdout",
     "output_type": "stream",
     "text": [
      "[b'9\\tEU\\trejects\\tGerman\\tcall\\tto\\tboycott\\tBritish\\tlamb\\t.\\t3\\t0\\t7\\t0\\t0\\t0\\t7\\t0\\t0']\n"
     ]
    }
   ],
   "source": [
    "print(list(train_data.take(1).as_numpy_iterator()))\n"
   ]
  },
  {
   "cell_type": "markdown",
   "id": "8b74d59f-aef4-427d-b65c-2e55bf5f6f24",
   "metadata": {},
   "source": [
    "We will be using the following map function to transform the data in the dataset:\n"
   ]
  },
  {
   "cell_type": "code",
   "execution_count": 15,
   "id": "9c80eb87-7929-4153-899c-9597fb00a47f",
   "metadata": {},
   "outputs": [],
   "source": [
    "def map_record_to_training_data(record):\n",
    "    record = tf.strings.split(record, sep=\"\\t\")\n",
    "    length = tf.strings.to_number(record[0], out_type=tf.int32)\n",
    "    tokens = record[1 : length + 1]\n",
    "    tags = record[length + 1 :]\n",
    "    tags = tf.strings.to_number(tags, out_type=tf.int64)\n",
    "    tags += 1\n",
    "    return tokens, tags"
   ]
  },
  {
   "cell_type": "code",
   "execution_count": 97,
   "id": "9d798f7d-f061-428f-a2db-7b1ac7458b47",
   "metadata": {},
   "outputs": [],
   "source": [
    "def map_record_to_training_data_with_bert(record_input):\n",
    "    records = tf.strings.split(record_input, sep=\"\\t\")\n",
    "    length = tf.strings.to_number(records[0], out_type=tf.int32)\n",
    "    value = records[1 : length + 1]\n",
    "    value1 = tf.split(value, num_or_size_splits = value.shape[1], axis = 1)\n",
    "    input = tf.strings.join(value1, \" \")\n",
    "    \n",
    "    tags = records[length + 1 :]\n",
    "    tags = tf.strings.to_number(tags, out_type=tf.int64)\n",
    "    tags += 1\n",
    "    return input, tags"
   ]
  },
  {
   "cell_type": "code",
   "execution_count": 16,
   "id": "3ccb73af-2fbe-4445-a584-46d087d94ae5",
   "metadata": {},
   "outputs": [],
   "source": [
    "def lowercase_and_convert_to_ids(tokens):\n",
    "    tokens = tf.strings.lower(tokens)\n",
    "    return lookup_layer(tokens)"
   ]
  },
  {
   "cell_type": "markdown",
   "id": "46008f9e-96ec-4a78-be43-aba088e669aa",
   "metadata": {},
   "source": [
    "We use `padded_batch` here because each record in the dataset has a different length."
   ]
  },
  {
   "cell_type": "code",
   "execution_count": 17,
   "id": "30bc0611-735d-4d2a-88d1-427a152c1fbd",
   "metadata": {},
   "outputs": [],
   "source": [
    "batch_size = 32"
   ]
  },
  {
   "cell_type": "code",
   "execution_count": 18,
   "id": "cb5817d2-22c1-4627-ad11-66d451f1e97a",
   "metadata": {},
   "outputs": [],
   "source": [
    "train_dataset = (\n",
    "    train_data.map(map_record_to_training_data)\n",
    "    .map(lambda x, y: (lowercase_and_convert_to_ids(x), y))\n",
    "    .padded_batch(batch_size)\n",
    ")"
   ]
  },
  {
   "cell_type": "code",
   "execution_count": 19,
   "id": "237cdd16-c48a-43d8-afdd-98fea7916d84",
   "metadata": {},
   "outputs": [],
   "source": [
    "val_dataset = (\n",
    "    val_data.map(map_record_to_training_data)\n",
    "    .map(lambda x, y: (lowercase_and_convert_to_ids(x), y))\n",
    "    .padded_batch(batch_size)\n",
    ")"
   ]
  },
  {
   "cell_type": "code",
   "execution_count": 35,
   "id": "f7a968cd-a10e-4b64-a0eb-9fd9e8142467",
   "metadata": {},
   "outputs": [],
   "source": [
    "ner_model = NERModel(num_tags, vocab_size, embed_dim=32, num_heads=4, ff_dim=64)"
   ]
  },
  {
   "cell_type": "markdown",
   "id": "2d114891-df64-4a25-b154-5059aa8a604f",
   "metadata": {},
   "source": [
    "We will be using a custom loss function that will ignore the loss from padded tokens."
   ]
  },
  {
   "cell_type": "code",
   "execution_count": 36,
   "id": "ce1244ba-b223-4065-ae03-691bd266e9ff",
   "metadata": {},
   "outputs": [],
   "source": [
    "class CustomNonPaddingTokenLoss(keras.losses.Loss):\n",
    "    def __init__(self, name=\"custom_ner_loss\"):\n",
    "        super().__init__(name=name)\n",
    "    \n",
    "    def call(self, y_true, y_pred):\n",
    "        loss_fn = keras.losses.SparseCategoricalCrossentropy(\n",
    "            from_logits=True, reduction=keras.losses.Reduction.NONE\n",
    "        )\n",
    "        loss = loss_fn(y_true, y_pred)\n",
    "        mask = tf.cast((y_true > 0), dtype=tf.float32)\n",
    "        loss = loss * mask\n",
    "        return tf.reduce_sum(loss) / tf.reduce_sum(mask)\n",
    "    "
   ]
  },
  {
   "cell_type": "code",
   "execution_count": 37,
   "id": "1314fc2a-4da7-42c2-9ceb-4d89a67a65d6",
   "metadata": {},
   "outputs": [],
   "source": [
    "loss = CustomNonPaddingTokenLoss()"
   ]
  },
  {
   "cell_type": "markdown",
   "id": "fbf9d21b-224b-4e48-994d-4f4cf9dd57fe",
   "metadata": {},
   "source": [
    "## Compile and fit the model"
   ]
  },
  {
   "cell_type": "code",
   "execution_count": 38,
   "id": "e486f631-b09b-4214-b6f3-f320aab431ee",
   "metadata": {},
   "outputs": [
    {
     "name": "stdout",
     "output_type": "stream",
     "text": [
      "Epoch 1/10\n",
      "439/439 [==============================] - 15s 23ms/step - loss: 0.9263\n",
      "Epoch 2/10\n",
      "439/439 [==============================] - 10s 24ms/step - loss: 0.6021\n",
      "Epoch 3/10\n",
      "439/439 [==============================] - 11s 24ms/step - loss: 0.2744\n",
      "Epoch 4/10\n",
      "439/439 [==============================] - 10s 23ms/step - loss: 0.1691\n",
      "Epoch 5/10\n",
      "439/439 [==============================] - 10s 23ms/step - loss: 0.1275\n",
      "Epoch 6/10\n",
      "439/439 [==============================] - 10s 23ms/step - loss: 0.0994\n",
      "Epoch 7/10\n",
      "439/439 [==============================] - 10s 23ms/step - loss: 0.0832\n",
      "Epoch 8/10\n",
      "439/439 [==============================] - 11s 24ms/step - loss: 0.0697\n",
      "Epoch 9/10\n",
      "439/439 [==============================] - 10s 23ms/step - loss: 0.0613\n",
      "Epoch 10/10\n",
      "439/439 [==============================] - 10s 22ms/step - loss: 0.0549\n"
     ]
    },
    {
     "data": {
      "text/plain": [
       "<keras.callbacks.History at 0x7f7bec64b4d0>"
      ]
     },
     "execution_count": 38,
     "metadata": {},
     "output_type": "execute_result"
    }
   ],
   "source": [
    "ner_model.compile(optimizer=\"adam\", loss=loss)\n",
    "ner_model.fit(train_dataset, epochs=10)"
   ]
  },
  {
   "cell_type": "code",
   "execution_count": 25,
   "id": "ba321716-348d-4b1c-ac41-ecaf5f8b6198",
   "metadata": {},
   "outputs": [],
   "source": [
    "def tokenize_and_convert_to_ids(text):\n",
    "    tokens = text.split()\n",
    "    return lowercase_and_convert_to_ids(tokens)\n"
   ]
  },
  {
   "cell_type": "markdown",
   "id": "e24c13fe-5116-4a4b-a909-286ae893bc59",
   "metadata": {},
   "source": [
    "Sample inference using the trained model"
   ]
  },
  {
   "cell_type": "code",
   "execution_count": 26,
   "id": "631ff447-32d1-4da0-8cbf-0ce6ff62095e",
   "metadata": {},
   "outputs": [
    {
     "name": "stdout",
     "output_type": "stream",
     "text": [
      "tf.Tensor([[  988 10950   204   628     6  3938   215  5773]], shape=(1, 8), dtype=int64)\n"
     ]
    }
   ],
   "source": [
    "sample_input = tokenize_and_convert_to_ids(\n",
    "    \"eu rejects german call to boycott british lamb\"\n",
    ")\n",
    "sample_input = tf.reshape(sample_input, shape=[1, -1])\n",
    "print(sample_input)"
   ]
  },
  {
   "cell_type": "code",
   "execution_count": 27,
   "id": "53ab14a6-91ce-474b-877b-4e301c849686",
   "metadata": {},
   "outputs": [],
   "source": [
    "output = ner_model.predict(sample_input)\n",
    "prediction = np.argmax(output, axis=-1)[0]\n",
    "prediction = [mapping[i] for i in prediction]"
   ]
  },
  {
   "cell_type": "code",
   "execution_count": 28,
   "id": "3ad2999c-cf9a-4845-a897-a8b04d1bc6e4",
   "metadata": {},
   "outputs": [
    {
     "name": "stdout",
     "output_type": "stream",
     "text": [
      "['B-ORG', 'O', 'B-MISC', 'O', 'O', 'O', 'B-MISC', 'O']\n"
     ]
    }
   ],
   "source": [
    "print(prediction)"
   ]
  },
  {
   "cell_type": "markdown",
   "id": "6ab48eee-8f79-4f1e-aef7-411dd5c1aef0",
   "metadata": {},
   "source": [
    "## Metrics calculation\n",
    "\n",
    "Here is a function to calculate the metrics. The function calculates F1 score for the\n",
    "overall NER dataset as well as individual scores for each NER tag."
   ]
  },
  {
   "cell_type": "code",
   "execution_count": 39,
   "id": "077f4107-db6d-4006-a233-9188168e0491",
   "metadata": {},
   "outputs": [],
   "source": [
    "def calculate_metrics(dataset):\n",
    "    all_true_tag_ids, all_predicted_tag_ids = [], []\n",
    "\n",
    "    for x, y in dataset:\n",
    "        output = ner_model.predict(x)\n",
    "        predictions = np.argmax(output, axis=-1)\n",
    "        predictions = np.reshape(predictions, [-1])\n",
    "\n",
    "        true_tag_ids = np.reshape(y, [-1])\n",
    "\n",
    "        mask = (true_tag_ids > 0) & (predictions > 0)\n",
    "        true_tag_ids = true_tag_ids[mask]\n",
    "        predicted_tag_ids = predictions[mask]\n",
    "\n",
    "        all_true_tag_ids.append(true_tag_ids)\n",
    "        all_predicted_tag_ids.append(predicted_tag_ids)\n",
    "\n",
    "    all_true_tag_ids = np.concatenate(all_true_tag_ids)\n",
    "    all_predicted_tag_ids = np.concatenate(all_predicted_tag_ids)\n",
    "\n",
    "    predicted_tags = [mapping[tag] for tag in all_predicted_tag_ids]\n",
    "    real_tags = [mapping[tag] for tag in all_true_tag_ids]\n",
    "\n",
    "    evaluate(real_tags, predicted_tags)"
   ]
  },
  {
   "cell_type": "code",
   "execution_count": 38,
   "id": "2c722734-2444-48e7-8551-61eaf0c7f48c",
   "metadata": {},
   "outputs": [
    {
     "name": "stdout",
     "output_type": "stream",
     "text": [
      "processed 51362 tokens with 5942 phrases; found: 5295 phrases; correct: 3855.\n",
      "accuracy:  62.69%; (non-O)\n",
      "accuracy:  93.39%; precision:  72.80%; recall:  64.88%; FB1:  68.61\n",
      "              LOC: precision:  83.45%; recall:  79.86%; FB1:  81.61  1758\n",
      "             MISC: precision:  74.45%; recall:  65.73%; FB1:  69.82  814\n",
      "              ORG: precision:  65.34%; recall:  61.00%; FB1:  63.09  1252\n",
      "              PER: precision:  65.53%; recall:  52.33%; FB1:  58.19  1471\n"
     ]
    }
   ],
   "source": [
    "calculate_metrics(val_dataset)"
   ]
  },
  {
   "cell_type": "code",
   "execution_count": 40,
   "id": "c03cbd45-239e-4211-888c-b65f40718866",
   "metadata": {},
   "outputs": [
    {
     "name": "stdout",
     "output_type": "stream",
     "text": [
      "WARNING:tensorflow:5 out of the last 103 calls to <function Model.make_predict_function.<locals>.predict_function at 0x7f786816bf80> triggered tf.function retracing. Tracing is expensive and the excessive number of tracings could be due to (1) creating @tf.function repeatedly in a loop, (2) passing tensors with different shapes, (3) passing Python objects instead of tensors. For (1), please define your @tf.function outside of the loop. For (2), @tf.function has experimental_relax_shapes=True option that relaxes argument shapes that can avoid unnecessary retracing. For (3), please refer to https://www.tensorflow.org/guide/function#controlling_retracing and https://www.tensorflow.org/api_docs/python/tf/function for  more details.\n",
      "processed 51362 tokens with 5942 phrases; found: 5947 phrases; correct: 4056.\n",
      "accuracy:  65.99%; (non-O)\n",
      "accuracy:  93.18%; precision:  68.20%; recall:  68.26%; FB1:  68.23\n",
      "              LOC: precision:  74.17%; recall:  83.94%; FB1:  78.75  2079\n",
      "             MISC: precision:  75.56%; recall:  61.71%; FB1:  67.94  753\n",
      "              ORG: precision:  58.39%; recall:  61.74%; FB1:  60.02  1418\n",
      "              PER: precision:  65.82%; recall:  60.64%; FB1:  63.13  1697\n"
     ]
    }
   ],
   "source": [
    "calculate_metrics(val_dataset)"
   ]
  },
  {
   "cell_type": "code",
   "execution_count": null,
   "id": "73afca4a-2abc-49f4-943d-b7c9060fc863",
   "metadata": {},
   "outputs": [],
   "source": []
  },
  {
   "cell_type": "markdown",
   "id": "7103ca9b-3157-400b-8680-506cf4f287b2",
   "metadata": {},
   "source": [
    "## Conclusions\n",
    "\n",
    "In this exercise, we created a simple transformer based named entity recognition model.\n",
    "We trained it on the CoNLL 2003 shared task data and got an overall F1 score of around 70%.\n",
    "State of the art NER models fine-tuned on pretrained models such as BERT or ELECTRA can easily\n",
    "get much higher F1 score -between 90-95% on this dataset owing to the inherent knowledge\n",
    "of words as part of the pretraining process and the usage of subword tokenization.\n",
    "\n",
    "You can use the trained model hosted on [Hugging Face Hub](https://huggingface.co/keras-io/ner-with-transformers)\n",
    "and try the demo on [Hugging Face Spaces](https://huggingface.co/spaces/keras-io/ner_with_transformers).\"\"\"\n"
   ]
  },
  {
   "cell_type": "code",
   "execution_count": null,
   "id": "00463e37-6760-44b8-aa72-d694251b0f98",
   "metadata": {},
   "outputs": [
    {
     "name": "stderr",
     "output_type": "stream",
     "text": [
      "/home/jupyter/asl-ml-immersion/notebooks/text_models/bert_kernel/lib/python3.7/site-packages/tqdm/auto.py:21: TqdmWarning: IProgress not found. Please update jupyter and ipywidgets. See https://ipywidgets.readthedocs.io/en/stable/user_install.html\n",
      "  from .autonotebook import tqdm as notebook_tqdm\n",
      "WARNING:absl:`TensorInfo.dtype` is deprecated. Please change your code to use NumPy with the field `TensorInfo.np_dtype` or use TensorFlow with the field `TensorInfo.tf_dtype`.\n",
      "WARNING:absl:You use TensorFlow DType <dtype: 'string'> in tfds.features This will soon be deprecated in favor of NumPy DTypes. In the meantime it was converted to object.\n",
      "WARNING:absl:`TensorInfo.dtype` is deprecated. Please change your code to use NumPy with the field `TensorInfo.np_dtype` or use TensorFlow with the field `TensorInfo.tf_dtype`.\n",
      "WARNING:absl:You use TensorFlow DType <dtype: 'int64'> in tfds.features This will soon be deprecated in favor of NumPy DTypes. In the meantime it was converted to int64.\n",
      "WARNING:absl:`TensorInfo.dtype` is deprecated. Please change your code to use NumPy with the field `TensorInfo.np_dtype` or use TensorFlow with the field `TensorInfo.tf_dtype`.\n"
     ]
    }
   ],
   "source": [
    "import tensorflow_datasets as tfds \n",
    "ds = tfds.load('conll2003/conll2003', split='train')"
   ]
  },
  {
   "cell_type": "code",
   "execution_count": null,
   "id": "9ef435b7-38dc-4491-9de6-aa07154cbf6e",
   "metadata": {},
   "outputs": [],
   "source": []
  }
 ],
 "metadata": {
  "environment": {
   "kernel": "bert_kernel",
   "name": "tf2-gpu.2-10.m108",
   "type": "gcloud",
   "uri": "gcr.io/deeplearning-platform-release/tf2-gpu.2-10:m108"
  },
  "kernelspec": {
   "display_name": "bert_kernel",
   "language": "python",
   "name": "bert_kernel"
  },
  "language_info": {
   "codemirror_mode": {
    "name": "ipython",
    "version": 3
   },
   "file_extension": ".py",
   "mimetype": "text/x-python",
   "name": "python",
   "nbconvert_exporter": "python",
   "pygments_lexer": "ipython3",
   "version": "3.7.12"
  }
 },
 "nbformat": 4,
 "nbformat_minor": 5
}
